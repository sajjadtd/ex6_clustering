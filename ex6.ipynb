{
  "nbformat": 4,
  "nbformat_minor": 0,
  "metadata": {
    "colab": {
      "provenance": []
    },
    "kernelspec": {
      "name": "python3",
      "display_name": "Python 3"
    },
    "language_info": {
      "name": "python"
    }
  },
  "cells": [
    {
      "cell_type": "code",
      "execution_count": 2,
      "metadata": {
        "colab": {
          "base_uri": "https://localhost:8080/"
        },
        "id": "PU10bsTyLiF5",
        "outputId": "6c338140-cabd-491c-a1ee-98c5275b95fd"
      },
      "outputs": [
        {
          "output_type": "stream",
          "name": "stdout",
          "text": [
            "Best Clustering: [3 2 2 3 3 3 2 2 2 2 3 2 1 2 2 1 2 1 1 1 2 2 1 3 1 1 1 1 1 2 2 2 1 1 1 3 2\n",
            " 1 1 1 2 3 2 2 2 2 1 1 3 1 1 3 3 3 1 3 3 2 1 1 3 2 2 1 1 1 3 3 1 3 1 2 1 1\n",
            " 3 3 3 1 1 2 1 2 1 2 3 3 2 2 3 1 2 3 3 3 3 2 1 1 2 2 3 3 3 3 3 3 3 3 3 1 2\n",
            " 2 1 1 3 3 1 3 2 1 2 2 1 3 3 3 3 2 3 3 3 2 3 1 3 2 3 3 3 2 3 2 3 3 2 3 1 3\n",
            " 2 3]\n"
          ]
        }
      ],
      "source": [
        "import numpy as np\n",
        "from sklearn.datasets import load_iris\n",
        "\n",
        "# Load Iris dataset\n",
        "iris = load_iris()\n",
        "data = iris.data\n",
        "\n",
        "# Genetic Algorithm for Clustering\n",
        "def objective_function(clustering, data):\n",
        "    total_distance = 0\n",
        "    for cluster_label in np.unique(clustering):\n",
        "        cluster_points = data[clustering == cluster_label]\n",
        "        cluster_center = np.mean(cluster_points, axis=0)\n",
        "        distance = np.sum(np.linalg.norm(cluster_points - cluster_center, axis=1))\n",
        "        total_distance += distance\n",
        "    return total_distance\n",
        "\n",
        "def mutation(chromosome, max_clusters):\n",
        "    mutation_point = np.random.randint(len(chromosome) - 1) + 1  # Avoid changing the number of clusters\n",
        "    new_label = np.random.randint(1, max_clusters + 1)\n",
        "    chromosome[mutation_point] = new_label\n",
        "    return chromosome\n",
        "\n",
        "def crossover(parent1, parent2):\n",
        "    crossover_point = np.random.randint(len(parent1))\n",
        "    child1 = np.concatenate((parent1[:crossover_point], parent2[crossover_point:]))\n",
        "    child2 = np.concatenate((parent2[:crossover_point], parent1[crossover_point:]))\n",
        "    return child1, child2\n",
        "\n",
        "# Initialize population\n",
        "def initialize_population(population_size, num_data_points, max_clusters):\n",
        "    return np.random.randint(low=1, high=max_clusters + 1, size=(population_size, num_data_points))\n",
        "\n",
        "# Main Genetic Algorithm\n",
        "def genetic_algorithm(data, population_size, num_generations, max_clusters):\n",
        "    num_data_points = len(data)\n",
        "\n",
        "    # Initialize population\n",
        "    population = initialize_population(population_size, num_data_points, max_clusters)\n",
        "\n",
        "    for generation in range(num_generations):\n",
        "        # Calculate fitness scores\n",
        "        fitness_scores = [objective_function(chromosome, data) for chromosome in population]\n",
        "\n",
        "        # Select parents\n",
        "        parents_indices = np.argsort(fitness_scores)[:2]\n",
        "        parent1, parent2 = population[parents_indices]\n",
        "\n",
        "        # Perform Crossover and Mutation\n",
        "        child1, child2 = crossover(parent1, parent2)\n",
        "        child1 = mutation(child1, max_clusters)\n",
        "        child2 = mutation(child2, max_clusters)\n",
        "\n",
        "        # Replace low-fitness chromosomes with children\n",
        "        min_fitness_index = np.argmin(fitness_scores)\n",
        "        population[min_fitness_index] = child1\n",
        "        population[(min_fitness_index + 1) % population_size] = child2\n",
        "\n",
        "    # Return the best chromosome (clustering)\n",
        "    best_index = np.argmin(fitness_scores)\n",
        "    best_clustering = population[best_index]\n",
        "    return best_clustering\n",
        "\n",
        "# Run the Genetic Algorithm\n",
        "population_size = 10\n",
        "num_generations = 100\n",
        "max_clusters = 3\n",
        "\n",
        "best_clustering = genetic_algorithm(data, population_size, num_generations, max_clusters)\n",
        "print(\"Best Clustering:\", best_clustering)\n"
      ]
    }
  ]
}